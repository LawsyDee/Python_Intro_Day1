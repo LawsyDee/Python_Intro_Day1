{
 "cells": [
  {
   "cell_type": "markdown",
   "metadata": {
    "slideshow": {
     "slide_type": "-"
    }
   },
   "source": [
    "# Introduction To Python\n",
    "## Day 1: Basic Data Structures and Conditionals"
   ]
  },
  {
   "cell_type": "markdown",
   "metadata": {
    "slideshow": {
     "slide_type": "slide"
    }
   },
   "source": [
    "## Python at a Glance\n",
    "\n",
    "* An interpreted language\n",
    "  * Code is run by a python interpreter and  not directly on the computer\n",
    "  * Source code is turned into byte code and run by the interpreter(.pyc)\n",
    "  * Python code runs basically* the same on Windows, Unix or anything else with \n"
   ]
  },
  {
   "cell_type": "markdown",
   "metadata": {
    "slideshow": {
     "slide_type": "slide"
    }
   },
   "source": [
    "## Python at a Glance\n",
    "\n",
    "* Dynamic Typing\n",
    "  * No need to declare variables\n",
    "  * Memory management is handled by the interpreter\n",
    "* Intuitive Syntax\n",
    " * No ridiculous semi-colons\n",
    "* A lot of built in functionality\n",
    "  * A huge number of modules built in\n",
    "  * More specialized ones available open source"
   ]
  },
  {
   "cell_type": "markdown",
   "metadata": {
    "slideshow": {
     "slide_type": "slide"
    }
   },
   "source": [
    "## Getting Started\n",
    "\n",
    "* Two different current versions 2.7+ and 3+\n",
    "  * We're Upgrading to 3, because it's the 21st century!\n",
    "* Download at http://www.python.org/download/\n",
    "  * Documentation Located at http://docs.python.org"
   ]
  },
  {
   "cell_type": "markdown",
   "metadata": {
    "slideshow": {
     "slide_type": "slide"
    }
   },
   "source": [
    "## How to Run Python\n",
    "\n",
    "* Interactive Interpreter\n",
    "  * There are a number of interactive interpreters (in fact these slides are made using the iPython interpreter)\n",
    "  * The Idle interpeter comes with most python builds\n",
    "  * Interactive mode can also be accessed by typing \"python\" at a command line\n",
    "\n",
    "* Python Scripts\n",
    "  * Python scripts are run by simply typing `python scriptName.py args` at the command line\n",
    "  * Some systems are also configured to simply let users click on .py files\n",
    "* For the most part this class will encourage using Jupyter Notebooks."
   ]
  },
  {
   "cell_type": "markdown",
   "metadata": {
    "slideshow": {
     "slide_type": "slide"
    }
   },
   "source": [
    "#### Jupyter Notebook Example\n",
    "Jupyter Notebooks work a bit differently since each chunk of code is run when you tell it in the brower.  For example..."
   ]
  },
  {
   "cell_type": "code",
   "execution_count": null,
   "metadata": {},
   "outputs": [],
   "source": [
    "print(\"Hello World\")"
   ]
  },
  {
   "cell_type": "code",
   "execution_count": null,
   "metadata": {},
   "outputs": [],
   "source": [
    "print(1 + 3)"
   ]
  },
  {
   "cell_type": "code",
   "execution_count": null,
   "metadata": {},
   "outputs": [],
   "source": [
    "for i in [1, 2, 3]:\n",
    "    print (i)"
   ]
  },
  {
   "cell_type": "markdown",
   "metadata": {
    "slideshow": {
     "slide_type": "slide"
    }
   },
   "source": [
    "## Getting Input From the User\n",
    "\n",
    "* Especially during early code you'll want to prompt the user for input\n",
    "* This is done with `input`  \n"
   ]
  },
  {
   "cell_type": "code",
   "execution_count": null,
   "metadata": {
    "slideshow": {
     "slide_type": "-"
    }
   },
   "outputs": [],
   "source": [
    "x = input(\"Enter Input: \")\n",
    "print(x)\n"
   ]
  },
  {
   "cell_type": "markdown",
   "metadata": {
    "slideshow": {
     "slide_type": "slide"
    }
   },
   "source": [
    "## Comments\n",
    "\n",
    "* Comments are used to denote characters that are not part of the code.   \n",
    "* A good coding practice is to always comment what you are intending to do\n",
    "* Comments are done using the `#` in python"
   ]
  },
  {
   "cell_type": "code",
   "execution_count": null,
   "metadata": {},
   "outputs": [],
   "source": [
    "#I am a comment.  I want to demonstrate comments.\n",
    "print('This is not a comment')\n",
    "#print('but this is')"
   ]
  },
  {
   "cell_type": "markdown",
   "metadata": {
    "slideshow": {
     "slide_type": "slide"
    }
   },
   "source": [
    "## Obligatory Hello World\n",
    "\n",
    "* Every coding class starts with an example like this to output something you can read.\n",
    "  * You've basically already seen it"
   ]
  },
  {
   "cell_type": "code",
   "execution_count": null,
   "metadata": {},
   "outputs": [],
   "source": [
    "#we just type the print function print() with quotes around what we want to print\n",
    "print(\"Hello World\")"
   ]
  },
  {
   "cell_type": "markdown",
   "metadata": {},
   "source": [
    "* If you ran that as a script it would produce the same output."
   ]
  },
  {
   "cell_type": "markdown",
   "metadata": {
    "slideshow": {
     "slide_type": "slide"
    }
   },
   "source": [
    "## An Aside About Print\n",
    "\n",
    "* `print` is the basic output statement\n",
    "  * Sends variables, strings, or whatever to standard out by default\n",
    "  * Cleaner strings can be writing using format.\n",
    "  * Python 3.6 also introduced the concept of \"f-strings\" (https://realpython.com/python-f-strings/)"
   ]
  },
  {
   "cell_type": "code",
   "execution_count": null,
   "metadata": {},
   "outputs": [],
   "source": [
    "name = \"John Cleese\"\n",
    "age = 79\n",
    "\n",
    "print(name+\" is \"+str(age)+\" years old.\")"
   ]
  },
  {
   "cell_type": "code",
   "execution_count": null,
   "metadata": {},
   "outputs": [],
   "source": [
    "print(\"{} is {} years old.\".format(name, age))"
   ]
  },
  {
   "cell_type": "code",
   "execution_count": null,
   "metadata": {},
   "outputs": [],
   "source": [
    "print(f\"{name} is {age} years old.\")"
   ]
  },
  {
   "cell_type": "markdown",
   "metadata": {},
   "source": [
    "* Very similar to c\n",
    "* More documentation at https://www.python.org/dev/peps/pep-0498/"
   ]
  },
  {
   "cell_type": "markdown",
   "metadata": {
    "slideshow": {
     "slide_type": "slide"
    }
   },
   "source": [
    "# Basic Data Structures\n",
    "\n",
    "### Numbers\n",
    "* Functionally two types of numbers \n",
    "  * Integers(int) – whole number\n",
    "  * Floating pointing (float) – decimal numbers\n",
    "* Python (and most computers) use to treat these diffently when doing math.  Python 3 does not, but still be careful"
   ]
  },
  {
   "cell_type": "code",
   "execution_count": null,
   "metadata": {
    "slideshow": {
     "slide_type": "fragment"
    }
   },
   "outputs": [],
   "source": [
    "#Integer Division (cheating for our example)\n",
    "print(3//2)\n",
    "#py 3 results\n",
    "print(3/2)\n",
    "#floats\n",
    "print(3.0/2.0)"
   ]
  },
  {
   "cell_type": "markdown",
   "metadata": {
    "slideshow": {
     "slide_type": "slide"
    }
   },
   "source": [
    "## Basic Data Structures\n",
    "\n",
    "* Strings – combinations of text with one or more characters surrounded by ' ' or “”\n",
    "  * A lot languages treat single characters and strings differently.  Not Python.\n",
    "  * Certain characters need to be escaped with “\\” (example \\n)"
   ]
  },
  {
   "cell_type": "code",
   "execution_count": null,
   "metadata": {
    "slideshow": {
     "slide_type": "-"
    }
   },
   "outputs": [],
   "source": [
    "print(\"This is a string with quotes\")"
   ]
  },
  {
   "cell_type": "code",
   "execution_count": null,
   "metadata": {},
   "outputs": [],
   "source": [
    "print('Now with \"single\"quotes')"
   ]
  },
  {
   "cell_type": "code",
   "execution_count": null,
   "metadata": {},
   "outputs": [],
   "source": [
    "print(\"Or we can insert\\nnew lines via \\\\n\")"
   ]
  },
  {
   "cell_type": "markdown",
   "metadata": {
    "slideshow": {
     "slide_type": "slide"
    }
   },
   "source": [
    "# Basic Data Structures\n",
    "\n",
    "* Booleans – true or false values\n",
    "  * True or False keywords (note caps)\n",
    "  * Equivalent to 0 and not 0"
   ]
  },
  {
   "cell_type": "code",
   "execution_count": null,
   "metadata": {
    "slideshow": {
     "slide_type": "-"
    }
   },
   "outputs": [],
   "source": [
    "#Using if statements to make a point.  More on these later\n",
    "if True:\n",
    "    print('Truth')\n",
    "    \n",
    "if 42:\n",
    "    print('Even Truer')"
   ]
  },
  {
   "cell_type": "code",
   "execution_count": null,
   "metadata": {
    "collapsed": true
   },
   "outputs": [],
   "source": [
    "if False:\n",
    "    print('Not gonna print')\n",
    "if 0:\n",
    "    print('no, Seriously')"
   ]
  },
  {
   "cell_type": "markdown",
   "metadata": {
    "slideshow": {
     "slide_type": "slide"
    }
   },
   "source": [
    "# Type Conversions\n",
    "\n",
    "* Python is pretty smart about converting between basic data types just call int() or str() on the variable\n",
    "* In the case of strings, make sure to check the character is a digit by calling .isdigit()"
   ]
  },
  {
   "cell_type": "code",
   "execution_count": null,
   "metadata": {
    "slideshow": {
     "slide_type": "-"
    }
   },
   "outputs": [],
   "source": [
    "#convert a string to an int\n",
    "int(\"3\")"
   ]
  },
  {
   "cell_type": "code",
   "execution_count": null,
   "metadata": {},
   "outputs": [],
   "source": [
    "#convert int to a string\n",
    "str(5)"
   ]
  },
  {
   "cell_type": "code",
   "execution_count": null,
   "metadata": {},
   "outputs": [],
   "source": [
    "#Check if the string 5 is a digit\n",
    "\"5\".isdigit()"
   ]
  },
  {
   "cell_type": "code",
   "execution_count": null,
   "metadata": {},
   "outputs": [],
   "source": [
    "#Check if A is a digit\n",
    "'A'.isdigit()"
   ]
  },
  {
   "cell_type": "markdown",
   "metadata": {
    "slideshow": {
     "slide_type": "slide"
    }
   },
   "source": [
    "## Basic Operations\n",
    "\n",
    "* Variables and the Assignment Operator\n",
    "  * A variable is any combination characters, numbers, and _(that are not reserved words)\n",
    "* Values assigned to variables using `=`\n",
    "  * Assigns right side value to the left side"
   ]
  },
  {
   "cell_type": "code",
   "execution_count": null,
   "metadata": {
    "collapsed": true,
    "slideshow": {
     "slide_type": "fragment"
    }
   },
   "outputs": [],
   "source": [
    "#assign the value of 5 to the variable x\n",
    "x = 5\n",
    "\n",
    "#assign the value of Hello to y\n",
    "y = 'Hello'\n",
    "\n",
    "#we can also variables to variables\n",
    "z = x"
   ]
  },
  {
   "cell_type": "code",
   "execution_count": null,
   "metadata": {
    "slideshow": {
     "slide_type": "fragment"
    }
   },
   "outputs": [],
   "source": [
    "print(x)"
   ]
  },
  {
   "cell_type": "code",
   "execution_count": null,
   "metadata": {
    "slideshow": {
     "slide_type": "fragment"
    }
   },
   "outputs": [],
   "source": [
    "print(y)"
   ]
  },
  {
   "cell_type": "code",
   "execution_count": null,
   "metadata": {
    "slideshow": {
     "slide_type": "fragment"
    }
   },
   "outputs": [],
   "source": [
    "print(z)"
   ]
  },
  {
   "cell_type": "markdown",
   "metadata": {
    "slideshow": {
     "slide_type": "subslide"
    }
   },
   "source": [
    "* The nice thing about variables is that they can be reassigned at will"
   ]
  },
  {
   "cell_type": "code",
   "execution_count": null,
   "metadata": {},
   "outputs": [],
   "source": [
    "z = y\n",
    "print(z)"
   ]
  },
  {
   "cell_type": "markdown",
   "metadata": {
    "slideshow": {
     "slide_type": "slide"
    }
   },
   "source": [
    "## Basic Operations\n",
    "\n",
    "* Arithmetic Operators\n",
    "  * `+ - * /` : Basic math stuff\n",
    "  * `% **` : Modulus and exponents"
   ]
  },
  {
   "cell_type": "code",
   "execution_count": null,
   "metadata": {
    "slideshow": {
     "slide_type": "fragment"
    }
   },
   "outputs": [],
   "source": [
    "#addition works as expected\n",
    "print(5+4)"
   ]
  },
  {
   "cell_type": "code",
   "execution_count": null,
   "metadata": {
    "slideshow": {
     "slide_type": "fragment"
    }
   },
   "outputs": [],
   "source": [
    "#as does subtraction\n",
    "print(5-4)"
   ]
  },
  {
   "cell_type": "code",
   "execution_count": null,
   "metadata": {
    "slideshow": {
     "slide_type": "fragment"
    }
   },
   "outputs": [],
   "source": [
    "#note that the order of operations is still in effect\n",
    "print( 1+ 2 * 5)"
   ]
  },
  {
   "cell_type": "code",
   "execution_count": null,
   "metadata": {
    "slideshow": {
     "slide_type": "fragment"
    }
   },
   "outputs": [],
   "source": [
    "#Modulus is just finding the remainder, which is handy for some tasks\n",
    "print(7 % 5)"
   ]
  },
  {
   "cell_type": "markdown",
   "metadata": {
    "slideshow": {
     "slide_type": "slide"
    }
   },
   "source": [
    "## Basic Operations\n",
    "\n",
    "* In almost all cases these are used in conjunction with assignment operators and variables\n",
    "* It's also pretty rare to use hard coded values so a lot of times you'll be assigning variables to other variables"
   ]
  },
  {
   "cell_type": "code",
   "execution_count": null,
   "metadata": {
    "slideshow": {
     "slide_type": "fragment"
    }
   },
   "outputs": [],
   "source": [
    "x = 2 + 2\n",
    "y = 7 ** 2 / 7\n",
    "print(x+y)"
   ]
  },
  {
   "cell_type": "markdown",
   "metadata": {
    "slideshow": {
     "slide_type": "slide"
    }
   },
   "source": [
    "## Exercise 1\n",
    "\n",
    "\n",
    "1. Write a Hello World program that asks the User their name and then responds with `“Hello <The Name Entered>”`. \n",
    "2. Write a program that prompts a user for two numbers then divides the first by the second.  Make Sure to convert to the correct type. \n",
    "3. Write a program that takes two integers, multiplies both together, adds 1 to the result and divides that by the second number minus one.  Just for fun, try it once with the second number being 1.\n",
    "4. Write a program that asks the user for three integers.  Add the first  and second together and output the string `“Your first answer is: <the answer>”`.  Then multiply the first answer by the third number and output a second answer in the same format.\n",
    "\n",
    "*For these exercises use `input()` and assume the data types are correct*"
   ]
  },
  {
   "cell_type": "markdown",
   "metadata": {
    "slideshow": {
     "slide_type": "subslide"
    }
   },
   "source": [
    "### Question 1 Solution"
   ]
  },
  {
   "cell_type": "code",
   "execution_count": null,
   "metadata": {},
   "outputs": [],
   "source": []
  },
  {
   "cell_type": "code",
   "execution_count": null,
   "metadata": {
    "collapsed": true
   },
   "outputs": [],
   "source": []
  },
  {
   "cell_type": "code",
   "execution_count": null,
   "metadata": {
    "collapsed": true
   },
   "outputs": [],
   "source": []
  },
  {
   "cell_type": "markdown",
   "metadata": {
    "slideshow": {
     "slide_type": "subslide"
    }
   },
   "source": [
    "#### Question 2 Solution"
   ]
  },
  {
   "cell_type": "code",
   "execution_count": null,
   "metadata": {},
   "outputs": [],
   "source": []
  },
  {
   "cell_type": "code",
   "execution_count": null,
   "metadata": {
    "collapsed": true
   },
   "outputs": [],
   "source": []
  },
  {
   "cell_type": "code",
   "execution_count": null,
   "metadata": {
    "collapsed": true
   },
   "outputs": [],
   "source": []
  },
  {
   "cell_type": "markdown",
   "metadata": {
    "collapsed": true,
    "slideshow": {
     "slide_type": "subslide"
    }
   },
   "source": [
    "### Question 3 Solution"
   ]
  },
  {
   "cell_type": "code",
   "execution_count": null,
   "metadata": {},
   "outputs": [],
   "source": []
  },
  {
   "cell_type": "code",
   "execution_count": null,
   "metadata": {
    "collapsed": true
   },
   "outputs": [],
   "source": []
  },
  {
   "cell_type": "code",
   "execution_count": null,
   "metadata": {
    "collapsed": true
   },
   "outputs": [],
   "source": []
  },
  {
   "cell_type": "markdown",
   "metadata": {
    "slideshow": {
     "slide_type": "subslide"
    }
   },
   "source": [
    "### Question 4 Solution"
   ]
  },
  {
   "cell_type": "code",
   "execution_count": null,
   "metadata": {},
   "outputs": [],
   "source": []
  },
  {
   "cell_type": "code",
   "execution_count": null,
   "metadata": {
    "collapsed": true
   },
   "outputs": [],
   "source": []
  },
  {
   "cell_type": "code",
   "execution_count": null,
   "metadata": {
    "collapsed": true
   },
   "outputs": [],
   "source": []
  },
  {
   "cell_type": "markdown",
   "metadata": {
    "slideshow": {
     "slide_type": "slide"
    }
   },
   "source": [
    "## Comparison Operations\n",
    "\n",
    "* Assigning values is useful, but comparing values is also critical for automating anything.\n",
    "\n",
    "* Comparison Operators\n",
    "  * Compare two values and returns boolean\n",
    "  * `x == y` :  x equals y?\n",
    "  * `x < y` : x less than y?\n",
    "  * `x >= y` : x greater than or equal y?\n",
    "  * `x != y` : x not equal to y\n",
    "* Logical operators (and, or, not) can be used in conjunction with comparators"
   ]
  },
  {
   "cell_type": "code",
   "execution_count": null,
   "metadata": {
    "slideshow": {
     "slide_type": "slide"
    }
   },
   "outputs": [],
   "source": [
    "print(True)"
   ]
  },
  {
   "cell_type": "code",
   "execution_count": null,
   "metadata": {
    "slideshow": {
     "slide_type": "fragment"
    }
   },
   "outputs": [],
   "source": [
    "print(False)"
   ]
  },
  {
   "cell_type": "code",
   "execution_count": null,
   "metadata": {
    "slideshow": {
     "slide_type": "fragment"
    }
   },
   "outputs": [],
   "source": [
    "print(not False)"
   ]
  },
  {
   "cell_type": "code",
   "execution_count": null,
   "metadata": {
    "slideshow": {
     "slide_type": "fragment"
    }
   },
   "outputs": [],
   "source": [
    "print(True or False)"
   ]
  },
  {
   "cell_type": "code",
   "execution_count": null,
   "metadata": {
    "slideshow": {
     "slide_type": "fragment"
    }
   },
   "outputs": [],
   "source": [
    "print(False and True)"
   ]
  },
  {
   "cell_type": "code",
   "execution_count": null,
   "metadata": {
    "slideshow": {
     "slide_type": "subslide"
    }
   },
   "outputs": [],
   "source": [
    "print(5==5)"
   ]
  },
  {
   "cell_type": "code",
   "execution_count": null,
   "metadata": {
    "slideshow": {
     "slide_type": "fragment"
    }
   },
   "outputs": [],
   "source": [
    "print(7!=7)"
   ]
  },
  {
   "cell_type": "code",
   "execution_count": null,
   "metadata": {
    "slideshow": {
     "slide_type": "fragment"
    }
   },
   "outputs": [],
   "source": [
    "print(8>6)"
   ]
  },
  {
   "cell_type": "code",
   "execution_count": null,
   "metadata": {
    "slideshow": {
     "slide_type": "fragment"
    }
   },
   "outputs": [],
   "source": [
    "print(not 1==3)"
   ]
  },
  {
   "cell_type": "code",
   "execution_count": null,
   "metadata": {
    "slideshow": {
     "slide_type": "fragment"
    }
   },
   "outputs": [],
   "source": [
    "print(4==4 and 5==4)"
   ]
  },
  {
   "cell_type": "code",
   "execution_count": null,
   "metadata": {
    "slideshow": {
     "slide_type": "fragment"
    }
   },
   "outputs": [],
   "source": [
    "print (4==4 and 5>4)"
   ]
  },
  {
   "cell_type": "markdown",
   "metadata": {
    "slideshow": {
     "slide_type": "slide"
    }
   },
   "source": [
    "## Control Flow Statements\n",
    "\n",
    "* Data is great, but the main logic of the program is made up of control statements(and basic operations)\n",
    "* There are basically two major categories of control statements in Python, conditionals and loops.  We'll start with conditionals"
   ]
  },
  {
   "cell_type": "markdown",
   "metadata": {
    "slideshow": {
     "slide_type": "slide"
    }
   },
   "source": [
    "## Conditional Statements\n",
    "\n",
    "* Conditional statements run a  test and then use the result to determine the next step in the program\n",
    "* Abstractly it's of the form: “If something is true, then do this”.  Otherwise, do something else\n",
    "* Python implements this with the creatively named `if` command"
   ]
  },
  {
   "cell_type": "markdown",
   "metadata": {
    "slideshow": {
     "slide_type": "slide"
    }
   },
   "source": [
    "## Conditional Statements\n",
    "* Syntax: `if test: <Code to execute>`\n",
    "* Note the the colon is required\n",
    "* The test generally uses a comparator"
   ]
  },
  {
   "cell_type": "code",
   "execution_count": null,
   "metadata": {
    "slideshow": {
     "slide_type": "fragment"
    }
   },
   "outputs": [],
   "source": [
    "x=2\n",
    "\n",
    "if x == 2:\n",
    "    print(f\"X is equal to {x}.\")"
   ]
  },
  {
   "cell_type": "markdown",
   "metadata": {
    "slideshow": {
     "slide_type": "slide"
    }
   },
   "source": [
    "## A Brief Aside on Indentation\n",
    "\n",
    "* Nesting “if” statements and other control statements can cause ambiguity when the program is actually run(dangling elses)\n",
    "* A lot of languages deal with this via some explicit designators such  {} or ()\n",
    "* Python uses uniform indentation to improve readability.  Four spaces are recommended, but tabs also work."
   ]
  },
  {
   "cell_type": "markdown",
   "metadata": {
    "slideshow": {
     "slide_type": "slide"
    }
   },
   "source": [
    "## if Statements\n",
    "\n",
    "* Basic if statements only run the code if the test passes.  To do something if it fails use `else`\n",
    "* Only one else is allowed."
   ]
  },
  {
   "cell_type": "code",
   "execution_count": null,
   "metadata": {
    "slideshow": {
     "slide_type": "fragment"
    }
   },
   "outputs": [],
   "source": [
    "x=3\n",
    "\n",
    "if x == 2:\n",
    "    print(f\"X is equal to {x}.\")\n",
    "else:\n",
    "    print(\"X is not equal 2.\")"
   ]
  },
  {
   "cell_type": "markdown",
   "metadata": {
    "slideshow": {
     "slide_type": "slide"
    }
   },
   "source": [
    "## if Statements\n",
    "\n",
    "*To check for multiple conditions sequentially use the else if keyword `elif`"
   ]
  },
  {
   "cell_type": "code",
   "execution_count": null,
   "metadata": {
    "slideshow": {
     "slide_type": "fragment"
    }
   },
   "outputs": [],
   "source": [
    "x=3\n",
    "\n",
    "if x == 2:\n",
    "    print(\"x is equal to {}.\".format(x))\n",
    "elif x == 3:\n",
    "    print('x is equal to 3.')\n",
    "else:\n",
    "    print(\"x is not equal 2.\")"
   ]
  },
  {
   "cell_type": "markdown",
   "metadata": {
    "slideshow": {
     "slide_type": "slide"
    }
   },
   "source": [
    "## if Statement\n",
    "\n",
    "* Tips on if statements\n",
    "  * Empty lists( [] or {}) are considered false(more on these later)\n",
    "  * None is considered false\n",
    "  * Any variable is considered true unless it's explicitly False, None, 0, or empty\n",
    "  * However, testing a non-existent variable will throw an exception"
   ]
  },
  {
   "cell_type": "markdown",
   "metadata": {
    "collapsed": true,
    "slideshow": {
     "slide_type": "slide"
    }
   },
   "source": [
    "## Python Exercise 2\n",
    "1. Write a program that prompts a user for two numbers then divides the first by the second, but this time, make sure that the program checks to make sure it isn't dividing by zero.\n",
    "2. Write a program that prompts a user for 2 numbers, then prints whether the first number is larger, smaller, or equal to the second.\n",
    "3. Write a program that asks for a string.  If the user enters a string that is not a number, the progra prints the string.  If the user enters a number, it prints the square of the number."
   ]
  },
  {
   "cell_type": "markdown",
   "metadata": {
    "slideshow": {
     "slide_type": "subslide"
    }
   },
   "source": [
    "### Solution 1"
   ]
  },
  {
   "cell_type": "code",
   "execution_count": null,
   "metadata": {},
   "outputs": [],
   "source": []
  },
  {
   "cell_type": "code",
   "execution_count": null,
   "metadata": {
    "collapsed": true
   },
   "outputs": [],
   "source": []
  },
  {
   "cell_type": "code",
   "execution_count": null,
   "metadata": {
    "collapsed": true
   },
   "outputs": [],
   "source": []
  },
  {
   "cell_type": "markdown",
   "metadata": {
    "slideshow": {
     "slide_type": "subslide"
    }
   },
   "source": [
    "### Solution 2"
   ]
  },
  {
   "cell_type": "code",
   "execution_count": null,
   "metadata": {},
   "outputs": [],
   "source": []
  },
  {
   "cell_type": "code",
   "execution_count": null,
   "metadata": {
    "collapsed": true
   },
   "outputs": [],
   "source": []
  },
  {
   "cell_type": "code",
   "execution_count": null,
   "metadata": {
    "collapsed": true
   },
   "outputs": [],
   "source": []
  },
  {
   "cell_type": "markdown",
   "metadata": {
    "slideshow": {
     "slide_type": "subslide"
    }
   },
   "source": [
    "### Solution 3"
   ]
  },
  {
   "cell_type": "code",
   "execution_count": null,
   "metadata": {},
   "outputs": [],
   "source": []
  },
  {
   "cell_type": "code",
   "execution_count": null,
   "metadata": {
    "collapsed": true
   },
   "outputs": [],
   "source": []
  },
  {
   "cell_type": "code",
   "execution_count": null,
   "metadata": {
    "collapsed": true
   },
   "outputs": [],
   "source": []
  },
  {
   "cell_type": "markdown",
   "metadata": {
    "slideshow": {
     "slide_type": "slide"
    }
   },
   "source": [
    "## Composite Data Structures\n",
    "\n",
    "* Tuples\n",
    "  * Composite data type of two or more values separated by , and surrounded by ()\n",
    "* For example: `(1, 2)`\n",
    "* They are generally accessed via a 0 based index number surrounded by []"
   ]
  },
  {
   "cell_type": "code",
   "execution_count": null,
   "metadata": {
    "slideshow": {
     "slide_type": "fragment"
    }
   },
   "outputs": [],
   "source": [
    "#Create a small tuple\n",
    "tup = (2, 3)\n",
    "\n",
    "#get the first element by accessing it via index \n",
    "print(tup[0])\n",
    "\n",
    "#get the second element\n",
    "print(tup[1])"
   ]
  },
  {
   "cell_type": "markdown",
   "metadata": {
    "slideshow": {
     "slide_type": "slide"
    }
   },
   "source": [
    "## Lists\n",
    "\n",
    "* Lists are a sequence of values stored in the same variable and accessed with an index just like tuples\n",
    "  * However you can change the number of elements in a list\n",
    "* Much like arrays in older languages but without memory management\n",
    "* Strings are similar to lists of characters\n",
    "* lists are created in the format `[item1, item2, ...]`"
   ]
  },
  {
   "cell_type": "code",
   "execution_count": null,
   "metadata": {
    "collapsed": true,
    "slideshow": {
     "slide_type": "fragment"
    }
   },
   "outputs": [],
   "source": [
    "#create an empty list\n",
    "empty = []\n",
    "\n",
    "#create a list of numbers\n",
    "num_list = [1,2,3,4]\n"
   ]
  },
  {
   "cell_type": "markdown",
   "metadata": {
    "slideshow": {
     "slide_type": "slide"
    }
   },
   "source": [
    "## Lists\n",
    "\n",
    "* Items in a list are accessed with a numeric  index specified in brackets\n",
    "* Index is 0 based"
   ]
  },
  {
   "cell_type": "code",
   "execution_count": null,
   "metadata": {
    "slideshow": {
     "slide_type": "fragment"
    }
   },
   "outputs": [],
   "source": [
    "#get the first element of num_list\n",
    "print(num_list[0])\n",
    "\n",
    "#and get the last element\n",
    "print(num_list[3])"
   ]
  },
  {
   "cell_type": "markdown",
   "metadata": {
    "slideshow": {
     "slide_type": "slide"
    }
   },
   "source": [
    "## Lists\n",
    "\n",
    "* Remember lists can be pretty much anything\n",
    "* Can consists of multiple types of data\n",
    "* Can consist of other lists\n",
    "* Accessed via multiple indexes (multi dimensional lists)"
   ]
  },
  {
   "cell_type": "markdown",
   "metadata": {
    "slideshow": {
     "slide_type": "subslide"
    }
   },
   "source": [
    "### A Multitype List"
   ]
  },
  {
   "cell_type": "code",
   "execution_count": null,
   "metadata": {},
   "outputs": [],
   "source": [
    "Jane_Data = [153, \"Jane Doe\", \"05/18/1983\", 85000, \"Accounting\"]\n",
    "\n",
    "print('The first element is a {} but the second is {}.'.format(Jane_Data[0], Jane_Data[1]))"
   ]
  },
  {
   "cell_type": "markdown",
   "metadata": {
    "slideshow": {
     "slide_type": "subslide"
    }
   },
   "source": [
    "### A List of Lists"
   ]
  },
  {
   "cell_type": "code",
   "execution_count": null,
   "metadata": {},
   "outputs": [],
   "source": [
    "Employee_Data = [[153, \"Jane Doe\", \"05/18/1983\", 85000, \"Accounting\"],\n",
    "                 [423, \"Andre Jones\", \"02/14/1978\", 120000,\"Sales\"]]\n",
    "\n",
    "print('First Element of first list is {}.\\nThe second element of the second is {}.'.format(Employee_Data[0][0], \n",
    "                                                                                           Employee_Data[1][1]))"
   ]
  },
  {
   "cell_type": "markdown",
   "metadata": {
    "slideshow": {
     "slide_type": "slide"
    }
   },
   "source": [
    "## List Operations\n",
    "\n",
    "* Lists get their own set set of operators\n",
    "* `in` tests whether an item is in the list\n",
    "* For strings it will test the entire word"
   ]
  },
  {
   "cell_type": "code",
   "execution_count": null,
   "metadata": {
    "slideshow": {
     "slide_type": "fragment"
    }
   },
   "outputs": [],
   "source": [
    "num_list = [1,2,3,4]\n",
    "\n",
    "if 3 in num_list:\n",
    "    print(True)"
   ]
  },
  {
   "cell_type": "code",
   "execution_count": null,
   "metadata": {
    "slideshow": {
     "slide_type": "fragment"
    }
   },
   "outputs": [],
   "source": [
    "print(7 in num_list)"
   ]
  },
  {
   "cell_type": "markdown",
   "metadata": {
    "slideshow": {
     "slide_type": "slide"
    }
   },
   "source": [
    "## List Operations\n",
    "\n",
    "* Adding and deleting items\n",
    "  * '+' is used to add lists together which means wrapping a value in a list is an easy way to add an item\n",
    "  * del s[i]: deletes the item from the list"
   ]
  },
  {
   "cell_type": "code",
   "execution_count": null,
   "metadata": {
    "slideshow": {
     "slide_type": "fragment"
    }
   },
   "outputs": [],
   "source": [
    "#create a list\n",
    "num_list = [1,2]\n",
    "\n",
    "#add an item\n",
    "\n",
    "num_list = num_list + [3] #there is a more pythonic way to do this\n",
    "print(num_list)\n"
   ]
  },
  {
   "cell_type": "code",
   "execution_count": null,
   "metadata": {
    "slideshow": {
     "slide_type": "fragment"
    }
   },
   "outputs": [],
   "source": [
    "#delete an item, note that this doesn't need to be assigned to anything\n",
    "del num_list[1]\n",
    "print (num_list)"
   ]
  },
  {
   "cell_type": "markdown",
   "metadata": {
    "slideshow": {
     "slide_type": "slide"
    }
   },
   "source": [
    "## List Operations\n",
    "\n",
    "* One of Python's most powerful features is list slicing\n",
    "* Slicing with “:” is an easy way to access sub-lists\n",
    "* `my_list[i:j]` returns elements from my_list[i] to my_list[j-1]\n",
    "* Can also specify jumps with `my_list[i:j:k]`\n",
    "* You can also leave off an index to specify the beginning or end of the list\n",
    "  * `my_list[:3]` is the first 3 elements\n",
    "  * `my_list[1:]` is everything but the first element\n",
    "* Negative slice from the back of the list is also allowed"
   ]
  },
  {
   "cell_type": "code",
   "execution_count": null,
   "metadata": {
    "slideshow": {
     "slide_type": "fragment"
    }
   },
   "outputs": [],
   "source": [
    "my_list = [1,2,3,4,5,6,7]\n",
    "\n",
    "#grab the first three elements\n",
    "print(my_list[:3])"
   ]
  },
  {
   "cell_type": "code",
   "execution_count": null,
   "metadata": {
    "slideshow": {
     "slide_type": "fragment"
    }
   },
   "outputs": [],
   "source": [
    "#get only the odd numbers\n",
    "print(my_list[::2])"
   ]
  },
  {
   "cell_type": "code",
   "execution_count": null,
   "metadata": {
    "slideshow": {
     "slide_type": "fragment"
    }
   },
   "outputs": [],
   "source": [
    "#print the list backwards\n",
    "print(my_list[::-1])"
   ]
  },
  {
   "cell_type": "markdown",
   "metadata": {
    "slideshow": {
     "slide_type": "slide"
    }
   },
   "source": [
    "## List Operations\n",
    "\n",
    "* Python also has a number of built-in functions (similar to how print prints what ever you pass it) that work on lists"
   ]
  },
  {
   "cell_type": "code",
   "execution_count": null,
   "metadata": {
    "slideshow": {
     "slide_type": "fragment"
    }
   },
   "outputs": [],
   "source": [
    "num_list = [1, 2, 3, 4, 5, 6, 12]\n",
    "\n",
    "print(\"max() finds the largest element: {}\".format(max(num_list)))\n",
    "print(f\"min() finds the smallest element: {min(num_list)}\")\n",
    "print(\"len() will tell how long the list is: {}\".format(len(num_list)))\n",
    "print(f\"sum() will add things together: {sum(num_list)}\")"
   ]
  },
  {
   "cell_type": "markdown",
   "metadata": {
    "slideshow": {
     "slide_type": "slide"
    }
   },
   "source": [
    "## List Operations\n",
    "* Built-in List methods (Why are they called methods? We'll cover this later)\n",
    "* Accessed via putting a dot (.) at the end of a variable\n",
    "* A handy feature is that a number interpreters will show you the available methods\n",
    "* syntax `variable.method(<arguments>)`"
   ]
  },
  {
   "cell_type": "code",
   "execution_count": null,
   "metadata": {
    "slideshow": {
     "slide_type": "fragment"
    }
   },
   "outputs": [],
   "source": [
    "num_list = [1,2,3]\n",
    "#append() is the other way to add single elements to lists\n",
    "#Notice it modifies the list in place\n",
    "num_list.append(4)\n",
    "print(num_list)"
   ]
  },
  {
   "cell_type": "code",
   "execution_count": null,
   "metadata": {
    "slideshow": {
     "slide_type": "fragment"
    }
   },
   "outputs": [],
   "source": [
    "#pop() removes the last item, also it gives you that value\n",
    "last = num_list.pop()\n",
    "\n",
    "print(last)\n",
    "print(num_list)"
   ]
  },
  {
   "cell_type": "code",
   "execution_count": null,
   "metadata": {
    "slideshow": {
     "slide_type": "fragment"
    }
   },
   "outputs": [],
   "source": [
    "#remove() removes the first item with the given value\n",
    "num_list.append(1) #added another 1 on the end of the list\n",
    "num_list.remove(1) #searches for and removes the first 1 it encouters\n",
    "print(num_list)"
   ]
  },
  {
   "cell_type": "markdown",
   "metadata": {
    "slideshow": {
     "slide_type": "slide"
    }
   },
   "source": [
    "## List Utilities\n",
    "\n",
    "* Searching and Sorting\n",
    "  * Lists come with built in methods that allow easy searching and sorting of data\n",
    "  * Optimized, so no need to do this by hand\n",
    "* Sorts can be complicated depending on the data, but for numbers and strings it will work"
   ]
  },
  {
   "cell_type": "code",
   "execution_count": null,
   "metadata": {
    "slideshow": {
     "slide_type": "fragment"
    }
   },
   "outputs": [],
   "source": [
    "num_list = [1, 4, 3, 5, 2, 3]\n",
    "\n",
    "#index() is the basic searching function.  It finds the first location of a value\n",
    "print(num_list.index(3))"
   ]
  },
  {
   "cell_type": "code",
   "execution_count": null,
   "metadata": {
    "slideshow": {
     "slide_type": "fragment"
    }
   },
   "outputs": [],
   "source": [
    "#sort() is the basic sorting function, notice it works in place\n",
    "num_list.sort()\n",
    "print(num_list)\n",
    "#reverse() can be used to reverse the list.  Handy after sorting\n",
    "num_list.reverse()\n",
    "print(num_list)"
   ]
  },
  {
   "cell_type": "markdown",
   "metadata": {
    "slideshow": {
     "slide_type": "slide"
    }
   },
   "source": [
    "## Exercise 3\n",
    "\n",
    "1. Write program that prompts a user five times to enter a number.  Then creates a list, sorts the numbers and prints the two largest numbers. \n",
    "2. Given the list [1, 3, 4, 6, 8, 2, 5, 7], write a program that only prints the even numbers.\n",
    "3. Write a program that asks for 4 numbers and creates a list.  Then have a final prompt that prompts the user enter \"largest\" to remove the largest number or \"smallest\" smallest to remove the smallest number.\n",
    "4. Write a program like the first one, but that doesn't allow duplicate numbers to be entered.  Instead use the last number added to the list if they attempt a duplicate. Finally, just print the list."
   ]
  },
  {
   "cell_type": "markdown",
   "metadata": {
    "slideshow": {
     "slide_type": "subslide"
    }
   },
   "source": [
    "#### Solution 1"
   ]
  },
  {
   "cell_type": "code",
   "execution_count": null,
   "metadata": {},
   "outputs": [],
   "source": []
  },
  {
   "cell_type": "code",
   "execution_count": null,
   "metadata": {
    "collapsed": true
   },
   "outputs": [],
   "source": []
  },
  {
   "cell_type": "code",
   "execution_count": null,
   "metadata": {
    "collapsed": true
   },
   "outputs": [],
   "source": []
  },
  {
   "cell_type": "markdown",
   "metadata": {
    "slideshow": {
     "slide_type": "subslide"
    }
   },
   "source": [
    "### Solution 2"
   ]
  },
  {
   "cell_type": "code",
   "execution_count": null,
   "metadata": {},
   "outputs": [],
   "source": []
  },
  {
   "cell_type": "code",
   "execution_count": null,
   "metadata": {
    "collapsed": true
   },
   "outputs": [],
   "source": []
  },
  {
   "cell_type": "code",
   "execution_count": null,
   "metadata": {
    "collapsed": true
   },
   "outputs": [],
   "source": []
  },
  {
   "cell_type": "markdown",
   "metadata": {
    "slideshow": {
     "slide_type": "subslide"
    }
   },
   "source": [
    "### Solution 3"
   ]
  },
  {
   "cell_type": "code",
   "execution_count": null,
   "metadata": {},
   "outputs": [],
   "source": []
  },
  {
   "cell_type": "code",
   "execution_count": null,
   "metadata": {
    "collapsed": true
   },
   "outputs": [],
   "source": []
  },
  {
   "cell_type": "code",
   "execution_count": null,
   "metadata": {
    "collapsed": true
   },
   "outputs": [],
   "source": []
  },
  {
   "cell_type": "markdown",
   "metadata": {},
   "source": [
    "### Solution 4"
   ]
  },
  {
   "cell_type": "code",
   "execution_count": null,
   "metadata": {
    "slideshow": {
     "slide_type": "subslide"
    }
   },
   "outputs": [],
   "source": []
  },
  {
   "cell_type": "code",
   "execution_count": null,
   "metadata": {
    "collapsed": true
   },
   "outputs": [],
   "source": []
  },
  {
   "cell_type": "code",
   "execution_count": null,
   "metadata": {
    "collapsed": true
   },
   "outputs": [],
   "source": []
  },
  {
   "cell_type": "markdown",
   "metadata": {
    "slideshow": {
     "slide_type": "slide"
    }
   },
   "source": [
    "## Dictionaries\n",
    "\n",
    "* Dictionaries are unordered lists accessed via a key instead of an index\n",
    "* Keys can be almost anything, but are generally strings\n",
    "* Accessed via [key] notations\n",
    "  * `d[“key”]`\n",
    "* Created using the {}\n",
    "* You can specify key, value pairs at creation. However, it's a lot more readable to add values to an empty dictionary\n",
    "* Easier to add keys and values dynamically\n",
    "* Conversely, just use del to remove the key and value"
   ]
  },
  {
   "cell_type": "code",
   "execution_count": null,
   "metadata": {
    "slideshow": {
     "slide_type": "fragment"
    }
   },
   "outputs": [],
   "source": [
    "#create an empty dictionary\n",
    "my_dict = {}\n",
    "#add a value and key\n",
    "my_dict['first_val'] = 'dogs'\n",
    "my_dict['second_vale'] = 'cats'\n",
    "\n",
    "#print one of the elements\n",
    "print(my_dict['first_val'])\n"
   ]
  },
  {
   "cell_type": "code",
   "execution_count": null,
   "metadata": {
    "slideshow": {
     "slide_type": "slide"
    }
   },
   "outputs": [],
   "source": [
    "#create by specifying a key/value pair manually\n",
    "my_name = {'First': 'Tom', 'Last':'Hanks'}\n",
    "\n",
    "print(my_name)\n",
    "\n"
   ]
  },
  {
   "cell_type": "code",
   "execution_count": null,
   "metadata": {
    "slideshow": {
     "slide_type": "fragment"
    }
   },
   "outputs": [],
   "source": [
    "#delete using the del keyword\n",
    "del my_name['First']\n",
    "\n",
    "print(my_name)"
   ]
  },
  {
   "cell_type": "markdown",
   "metadata": {
    "slideshow": {
     "slide_type": "slide"
    }
   },
   "source": [
    "# Dictionaries\n",
    "\n",
    "* Python handily provides a number of methods for dealing with dictionary keys\n",
    "* These make keys an easy way to store both data and data about the data"
   ]
  },
  {
   "cell_type": "code",
   "execution_count": null,
   "metadata": {
    "slideshow": {
     "slide_type": "fragment"
    }
   },
   "outputs": [],
   "source": [
    "my_name = {'First': 'Meg', 'Last':'Ryan'}\n",
    "\n",
    "#use in to check if a key exists\n",
    "print ('Last' in my_name)\n",
    "\n",
    "#keys() will also get you a list of keys\n",
    "print(my_name.keys())"
   ]
  },
  {
   "cell_type": "markdown",
   "metadata": {
    "slideshow": {
     "slide_type": "slide"
    }
   },
   "source": [
    "# Dictionaries\n",
    "\n",
    "* Dictionaries are a great way to store metadata about your data.\n",
    "* For example keys could be employee IDs or IP addresses\n",
    "* They can also be nested. Lists of Dictionaries are very common."
   ]
  },
  {
   "cell_type": "code",
   "execution_count": null,
   "metadata": {
    "slideshow": {
     "slide_type": "fragment"
    }
   },
   "outputs": [],
   "source": [
    "Employee_Data = [[153, \"Jane Doe\", \"05/18/1983\", 85000, \"Accounting\"],\n",
    "                 [423, \"Andre Jones\", \"02/14/1978\", 120000,\"Sales\"]]\n",
    "\n",
    "#using a list if I want to get Jane's birthday, I need to know what index stores her birthday\n",
    "print(Employee_Data[0][2])"
   ]
  },
  {
   "cell_type": "code",
   "execution_count": null,
   "metadata": {
    "slideshow": {
     "slide_type": "fragment"
    }
   },
   "outputs": [],
   "source": [
    "Employee_Data = [{\"id\": 123, \"name\": \"Jane Doe\", \"dob\": \"05/18/1983\", \"salary\":85000, \"dep\":\"Accounting\"},\n",
    "                 {\"id\": 423, \"name\": \"Andre Jones\", \"dob\": \"02/14/1978\", \"salary\":120000, \"dep\":\"Sales\"}]\n",
    "\n",
    "#using a list of dictionaries, I just need to know that her birthday is stored under the \"dob\" key\n",
    "print(Employee_Data[0][\"dob\"])"
   ]
  },
  {
   "cell_type": "code",
   "execution_count": null,
   "metadata": {
    "slideshow": {
     "slide_type": "fragment"
    }
   },
   "outputs": [],
   "source": [
    "Employee_Data = {\"Jane Doe\": {\"id\": 123, \"dob\": \"05/18/1983\", \"salary\":85000, \"dep\":\"Accounting\"},\n",
    "                 \"Andre Jones\": {\"id\": 423, \"dob\": \"02/14/1978\", \"salary\":120000, \"dep\":\"Sales\"}}\n",
    "\n",
    "#using a nested dictionaries with the employee name as a key, we can just call Jane by her name\n",
    "print(Employee_Data[\"Jane Doe\"][\"dob\"])"
   ]
  },
  {
   "cell_type": "markdown",
   "metadata": {
    "slideshow": {
     "slide_type": "slide"
    }
   },
   "source": [
    "\n",
    "## Exercise 3\n",
    "\n",
    "1. Write a program that takes 2 numbers as input and stores them in a dictionary as 'smallest' and largest\n",
    "2. Write a program that asks people for their 'name', their 'quest', and their favorite 'color'.  Then it will let prompt them to select one to print out.\n",
    "3. Write a program that asks the air speed velocity of a swallow.  Allow the user to specify if it's african or european as a key."
   ]
  },
  {
   "cell_type": "markdown",
   "metadata": {
    "slideshow": {
     "slide_type": "subslide"
    }
   },
   "source": [
    "### Solution 1"
   ]
  },
  {
   "cell_type": "code",
   "execution_count": null,
   "metadata": {},
   "outputs": [],
   "source": []
  },
  {
   "cell_type": "code",
   "execution_count": null,
   "metadata": {
    "collapsed": true
   },
   "outputs": [],
   "source": []
  },
  {
   "cell_type": "code",
   "execution_count": null,
   "metadata": {
    "collapsed": true
   },
   "outputs": [],
   "source": []
  },
  {
   "cell_type": "markdown",
   "metadata": {
    "slideshow": {
     "slide_type": "subslide"
    }
   },
   "source": [
    "### Solution 2"
   ]
  },
  {
   "cell_type": "code",
   "execution_count": null,
   "metadata": {},
   "outputs": [],
   "source": []
  },
  {
   "cell_type": "code",
   "execution_count": null,
   "metadata": {
    "collapsed": true
   },
   "outputs": [],
   "source": []
  },
  {
   "cell_type": "code",
   "execution_count": null,
   "metadata": {
    "collapsed": true
   },
   "outputs": [],
   "source": []
  },
  {
   "cell_type": "markdown",
   "metadata": {
    "slideshow": {
     "slide_type": "subslide"
    }
   },
   "source": [
    "### Solution 3"
   ]
  },
  {
   "cell_type": "code",
   "execution_count": null,
   "metadata": {},
   "outputs": [],
   "source": []
  },
  {
   "cell_type": "code",
   "execution_count": null,
   "metadata": {
    "collapsed": true
   },
   "outputs": [],
   "source": []
  },
  {
   "cell_type": "code",
   "execution_count": null,
   "metadata": {
    "collapsed": true
   },
   "outputs": [],
   "source": []
  },
  {
   "cell_type": "markdown",
   "metadata": {
    "slideshow": {
     "slide_type": "slide"
    }
   },
   "source": [
    "# Control Statement Continued\n",
    "\n",
    "* Loops are control structures that tell the computer to repeat some operation until a specific condition is met.\n",
    "* This is important because repetition is the primary point of scripting.\n",
    "* Python supports two types of loops, `for` and `while`."
   ]
  },
  {
   "cell_type": "markdown",
   "metadata": {
    "slideshow": {
     "slide_type": "slide"
    }
   },
   "source": [
    "# for Loops\n",
    "\n",
    "* For loops are used to take a finite number of items and iterate over them.\n",
    "* In plain english it basically means \"for each thing in a list of things, do this\"\n",
    "* For a number of older languages this was generally a counter 1, 2, 3... \n",
    "* Python however uses the concept of an iterable which makes these loops simpler to use"
   ]
  },
  {
   "cell_type": "markdown",
   "metadata": {
    "slideshow": {
     "slide_type": "fragment"
    }
   },
   "source": [
    "### Basic Syntax\n",
    "`For <item> in <iterable>: <do this and repeat with the next item>`\n",
    "\n",
    "### Basic Example"
   ]
  },
  {
   "cell_type": "code",
   "execution_count": null,
   "metadata": {
    "slideshow": {
     "slide_type": "fragment"
    }
   },
   "outputs": [],
   "source": [
    "my_list = [1,2,3,4,5]\n",
    "for num in my_list:\n",
    "    print(num)"
   ]
  },
  {
   "cell_type": "markdown",
   "metadata": {
    "slideshow": {
     "slide_type": "slide"
    }
   },
   "source": [
    "# for Loops\n",
    "\n",
    "* A slightly more complicated example"
   ]
  },
  {
   "cell_type": "code",
   "execution_count": null,
   "metadata": {},
   "outputs": [],
   "source": [
    "my_list = [1,2,3,4,5]\n",
    "total = 0\n",
    "#notice that only i changes in the loop\n",
    "for num in my_list:\n",
    "    total+=num\n",
    "    print(total)"
   ]
  },
  {
   "cell_type": "markdown",
   "metadata": {
    "slideshow": {
     "slide_type": "slide"
    }
   },
   "source": [
    "# for Loops\n",
    "\n",
    "* Note that the value pulled out for each iteration is a copy of the value in the list.\n",
    "* For example:"
   ]
  },
  {
   "cell_type": "code",
   "execution_count": null,
   "metadata": {
    "collapsed": true
   },
   "outputs": [],
   "source": [
    "my_list = [1,2,3,4,5]\n",
    "\n",
    "#should this increase the values in l?\n",
    "for i in my_list:\n",
    "    i+=1\n"
   ]
  },
  {
   "cell_type": "code",
   "execution_count": null,
   "metadata": {
    "slideshow": {
     "slide_type": "fragment"
    }
   },
   "outputs": [],
   "source": [
    "print(my_list)"
   ]
  },
  {
   "cell_type": "markdown",
   "metadata": {
    "slideshow": {
     "slide_type": "slide"
    }
   },
   "source": [
    "## for Loops\n",
    "* If you want to modify the list you'll need to create an iterable of indexes. \n",
    "* `range()` or `xrange()` both work\n",
    "* There is also something called a `map()` but it can be tricky(and awesome)."
   ]
  },
  {
   "cell_type": "code",
   "execution_count": null,
   "metadata": {},
   "outputs": [],
   "source": [
    "my_list=[1,2,3,4,5]\n",
    "#this will change the list\n",
    "for i in range(0, 5): #my_list is 5 elements long\n",
    "    my_list[i] += 1\n",
    "    print(my_list)\n",
    "    print(\"\\n\")"
   ]
  },
  {
   "cell_type": "markdown",
   "metadata": {},
   "source": [
    "# for Loops\n",
    "\n",
    "* Python uses a lot of `for` loops.  It's best to practice with them as often as possible"
   ]
  },
  {
   "cell_type": "markdown",
   "metadata": {
    "slideshow": {
     "slide_type": "slide"
    }
   },
   "source": [
    "# while Loops\n",
    "* For loops are good for looping a known amount of times.   While loops are used when you don't know how many times you'll need to do something.\n",
    "* For example traversing a data set and looking for a specific EOF mark or getting user input\n",
    "* Also useful if you want to loop infinitely(like webservers)"
   ]
  },
  {
   "cell_type": "markdown",
   "metadata": {
    "slideshow": {
     "slide_type": "fragment"
    }
   },
   "source": [
    "### Basic Syntax\n",
    "\n",
    "`while <something is true>: <do this and repeat>`\n",
    "\n",
    "### Basic Example"
   ]
  },
  {
   "cell_type": "code",
   "execution_count": null,
   "metadata": {
    "slideshow": {
     "slide_type": "fragment"
    }
   },
   "outputs": [],
   "source": [
    "x = 0\n",
    "#run the loop 5 times\n",
    "while x !=5:\n",
    "    print(x)\n",
    "    x+=1"
   ]
  },
  {
   "cell_type": "markdown",
   "metadata": {
    "slideshow": {
     "slide_type": "slide"
    }
   },
   "source": [
    "# while Loops\n",
    "\n",
    "* while loops can duplicate for loops"
   ]
  },
  {
   "cell_type": "code",
   "execution_count": null,
   "metadata": {},
   "outputs": [],
   "source": [
    "my_list = [1,2,3,4,5]\n",
    "counter = 0\n",
    "\n",
    "while counter < len(my_list):\n",
    "    print(my_list[counter])\n",
    "    counter+=1"
   ]
  },
  {
   "cell_type": "markdown",
   "metadata": {
    "slideshow": {
     "slide_type": "slide"
    }
   },
   "source": [
    "#while Loops\n",
    "\n",
    "* while loops are good for running until a value is found"
   ]
  },
  {
   "cell_type": "code",
   "execution_count": null,
   "metadata": {},
   "outputs": [],
   "source": [
    "value = ''\n",
    "\n",
    "while value != 'exit':\n",
    "    value = input(\"Enter a value(type 'exit' to quit):\")\n",
    "    print(f\"Entered {value}\")"
   ]
  },
  {
   "cell_type": "markdown",
   "metadata": {
    "slideshow": {
     "slide_type": "slide"
    }
   },
   "source": [
    "# while Loops\n",
    "\n",
    "* `while` loops can also be used to loop infinitely\n",
    "* We won't have an example for obvious reasons\n",
    "  * `while True: <something>`"
   ]
  },
  {
   "cell_type": "markdown",
   "metadata": {
    "slideshow": {
     "slide_type": "slide"
    }
   },
   "source": [
    "# break Statements\n",
    "\n",
    "* Sometimes it can be necessary to leave a function early.  The `break` keyword tells python to leave the current loop.\n",
    "* Only breaks out of the current loop\n",
    "* can be used in either `while` or `for` loops"
   ]
  },
  {
   "cell_type": "code",
   "execution_count": null,
   "metadata": {
    "slideshow": {
     "slide_type": "fragment"
    }
   },
   "outputs": [],
   "source": [
    "num_list = [1,2,3,4,5]\n",
    "\n",
    "for i in num_list:\n",
    "    print(i)\n",
    "    if i == 3:\n",
    "        break\n"
   ]
  },
  {
   "cell_type": "markdown",
   "metadata": {
    "slideshow": {
     "slide_type": "slide"
    }
   },
   "source": [
    "# Exercise 4\n",
    "\n",
    "1. Create a program that asks for an integer and outputs the sum of all the numbers between the number entered and 0.\n",
    "2. Create a program that initially asks for an exit word, then continues to ask for and repeata word the user types until they type the exit word again\n",
    "3. Create a program that asks for words until the user types “done”.  Then writes all these words back as one sentence. "
   ]
  },
  {
   "cell_type": "markdown",
   "metadata": {},
   "source": [
    "### Solution 1"
   ]
  },
  {
   "cell_type": "code",
   "execution_count": null,
   "metadata": {
    "slideshow": {
     "slide_type": "subslide"
    }
   },
   "outputs": [],
   "source": []
  },
  {
   "cell_type": "code",
   "execution_count": null,
   "metadata": {
    "collapsed": true
   },
   "outputs": [],
   "source": []
  },
  {
   "cell_type": "code",
   "execution_count": null,
   "metadata": {
    "collapsed": true
   },
   "outputs": [],
   "source": []
  },
  {
   "cell_type": "markdown",
   "metadata": {
    "slideshow": {
     "slide_type": "subslide"
    }
   },
   "source": [
    "### Solution 2"
   ]
  },
  {
   "cell_type": "code",
   "execution_count": null,
   "metadata": {},
   "outputs": [],
   "source": []
  },
  {
   "cell_type": "code",
   "execution_count": null,
   "metadata": {
    "collapsed": true
   },
   "outputs": [],
   "source": []
  },
  {
   "cell_type": "code",
   "execution_count": null,
   "metadata": {
    "collapsed": true
   },
   "outputs": [],
   "source": []
  },
  {
   "cell_type": "markdown",
   "metadata": {
    "slideshow": {
     "slide_type": "subslide"
    }
   },
   "source": [
    "### Solution 3"
   ]
  },
  {
   "cell_type": "code",
   "execution_count": null,
   "metadata": {},
   "outputs": [],
   "source": []
  },
  {
   "cell_type": "code",
   "execution_count": null,
   "metadata": {
    "collapsed": true
   },
   "outputs": [],
   "source": []
  },
  {
   "cell_type": "code",
   "execution_count": null,
   "metadata": {
    "collapsed": true
   },
   "outputs": [],
   "source": []
  },
  {
   "cell_type": "markdown",
   "metadata": {
    "slideshow": {
     "slide_type": "slide"
    }
   },
   "source": [
    "# Functions\n",
    "\n",
    "* Functions are used to define snippets of code that are regularly re-used.\n",
    "* Also a handy way to organize stuff\n",
    "###Syntax:\n",
    "`def your_function_name(v1, v2, ...):<code> <return something>`\n",
    "\n",
    "* returns are optional"
   ]
  },
  {
   "cell_type": "code",
   "execution_count": null,
   "metadata": {
    "slideshow": {
     "slide_type": "fragment"
    }
   },
   "outputs": [],
   "source": [
    "def addList(l1, l2):\n",
    "    returnList = []\n",
    "    for i in range(0, min(len(l1), len(l2))):\n",
    "        returnList.append(l1[i]+ l2[i])\n",
    "    \n",
    "    return returnList\n",
    "\n",
    "a = [1,2]\n",
    "b= [3,4]\n",
    "\n",
    "print(addList(a,b))\n",
    "                   "
   ]
  },
  {
   "cell_type": "markdown",
   "metadata": {
    "slideshow": {
     "slide_type": "slide"
    }
   },
   "source": [
    "# Default Values\n",
    "\n",
    "*You can specify default values if they won't change much"
   ]
  },
  {
   "cell_type": "code",
   "execution_count": null,
   "metadata": {},
   "outputs": [],
   "source": [
    "def kittyCatString(string1, kittyString ='kitty!'):\n",
    "    return string1+kittyString\n",
    "\n",
    "print(kittyCatString('boring', kittyString=\"stringConcat\"))\n",
    "print(kittyCatString('soft'))\n"
   ]
  },
  {
   "cell_type": "markdown",
   "metadata": {
    "slideshow": {
     "slide_type": "slide"
    }
   },
   "source": [
    "# Functions\n",
    "\n",
    "* A note on variables passed to functions.\n",
    "* Variables passed to functions as arguments can't be changed in the functions\n",
    "* ...Except when they can.  Primitive types won't change value, but lists and dictionaries will\n",
    "* The moral is to be mindful about what what you do in functions"
   ]
  },
  {
   "cell_type": "markdown",
   "metadata": {
    "slideshow": {
     "slide_type": "slide"
    }
   },
   "source": [
    "# Recursive Functions\n",
    "\n",
    "* Recursion occurs when functions call themselves.\n",
    "* Generally it makes code hard to understand, but in certain cases it makes for concise codes.\n",
    "* Some problems are naturally recursive"
   ]
  },
  {
   "cell_type": "code",
   "execution_count": null,
   "metadata": {
    "slideshow": {
     "slide_type": "fragment"
    }
   },
   "outputs": [],
   "source": [
    "def factorial(value):\n",
    "    if value == 1:\n",
    "        return value\n",
    "    else:\n",
    "        return value * factorial(value - 1)\n",
    "\n",
    "print(factorial(5))"
   ]
  },
  {
   "cell_type": "markdown",
   "metadata": {
    "slideshow": {
     "slide_type": "slide"
    }
   },
   "source": [
    "## Exercise\n",
    "\n",
    "1. Write a function that takes a total bill and tax percentage as input and caluclates a total. Set default tax at 6%.\n",
    "2. Write a function that takes a total and tip percentage and calculates the tip. Set the default tip of %15.\n",
    "3. Can you pass the results of your first function to the second function?"
   ]
  },
  {
   "cell_type": "markdown",
   "metadata": {
    "collapsed": true
   },
   "source": [
    "### Solution 1"
   ]
  },
  {
   "cell_type": "code",
   "execution_count": null,
   "metadata": {
    "collapsed": true
   },
   "outputs": [],
   "source": []
  },
  {
   "cell_type": "code",
   "execution_count": null,
   "metadata": {
    "collapsed": true
   },
   "outputs": [],
   "source": []
  },
  {
   "cell_type": "code",
   "execution_count": null,
   "metadata": {
    "collapsed": true
   },
   "outputs": [],
   "source": []
  },
  {
   "cell_type": "code",
   "execution_count": null,
   "metadata": {
    "collapsed": true
   },
   "outputs": [],
   "source": []
  },
  {
   "cell_type": "markdown",
   "metadata": {},
   "source": [
    "### Solution 2"
   ]
  },
  {
   "cell_type": "code",
   "execution_count": null,
   "metadata": {
    "collapsed": true
   },
   "outputs": [],
   "source": []
  },
  {
   "cell_type": "code",
   "execution_count": null,
   "metadata": {
    "collapsed": true
   },
   "outputs": [],
   "source": []
  },
  {
   "cell_type": "code",
   "execution_count": null,
   "metadata": {
    "collapsed": true
   },
   "outputs": [],
   "source": []
  },
  {
   "cell_type": "code",
   "execution_count": null,
   "metadata": {
    "collapsed": true
   },
   "outputs": [],
   "source": []
  },
  {
   "cell_type": "markdown",
   "metadata": {},
   "source": [
    "### Solution 3"
   ]
  },
  {
   "cell_type": "code",
   "execution_count": null,
   "metadata": {
    "collapsed": true
   },
   "outputs": [],
   "source": []
  },
  {
   "cell_type": "code",
   "execution_count": null,
   "metadata": {
    "collapsed": true
   },
   "outputs": [],
   "source": []
  },
  {
   "cell_type": "code",
   "execution_count": null,
   "metadata": {
    "collapsed": true
   },
   "outputs": [],
   "source": []
  },
  {
   "cell_type": "code",
   "execution_count": null,
   "metadata": {
    "collapsed": true
   },
   "outputs": [],
   "source": []
  },
  {
   "cell_type": "code",
   "execution_count": null,
   "metadata": {
    "collapsed": true
   },
   "outputs": [],
   "source": []
  }
 ],
 "metadata": {
  "kernelspec": {
   "display_name": "Python 3",
   "language": "python",
   "name": "python3"
  },
  "language_info": {
   "codemirror_mode": {
    "name": "ipython",
    "version": 3
   },
   "file_extension": ".py",
   "mimetype": "text/x-python",
   "name": "python",
   "nbconvert_exporter": "python",
   "pygments_lexer": "ipython3",
   "version": "3.6.1"
  }
 },
 "nbformat": 4,
 "nbformat_minor": 1
}
